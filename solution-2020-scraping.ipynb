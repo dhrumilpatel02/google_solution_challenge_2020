{
 "cells": [
  {
   "cell_type": "code",
   "execution_count": 1,
   "metadata": {},
   "outputs": [
    {
     "name": "stdout",
     "output_type": "stream",
     "text": [
      "A\n",
      "B\n",
      "C\n",
      "E\n",
      "F\n",
      "H\n",
      "I\n",
      "L\n",
      "M\n",
      "N\n",
      "P\n",
      "S\n",
      "V\n",
      "A\n",
      "Actuarial Science (MActSc) \n",
      "Applied Computing (MAC) \n",
      "Applied Economics and Policy (MAEP) \n",
      "Argumentation Studies (PhD) \n",
      "Automotive Engineering (International MASc)\n",
      "B\n",
      "Biological Sciences (PhD and MSc)\n",
      "Business Administration (MBA, MBA/JD)\n",
      "C\n",
      "Chemistry and Biochemistry (PhD and MSc)\n",
      "Civil Engineering (PhD, MASc and MEng)\n",
      "Communication and Social Justice (MA)\n",
      "PhD \n",
      "MSc\n",
      "Criminology (MA)\n",
      "E\n",
      "Earth Sciences (PhD and MSc)\n",
      "Economics (MA)\n",
      "Education and Educational Studies (MEd, MEd International cohort, and joint PhD)\n",
      "Electrical Engineering (PhD, MASc and MEng)\n",
      "Engineering Management (MEM)\n",
      "Engineering Materials (PhD, MASc and MEng)\n",
      "English (MA)\n",
      "Environmental Engineering (PhD, MASc and MEng)\n",
      "Environmental Science (PhD and MSc)\n",
      "F\n",
      "Film and Media Arts (MFA)\n",
      "H\n",
      "History (MA)\n",
      "Human Kinetics / Kinesiology (MHK and PhD)\n",
      "I\n",
      "Industrial Engineering (MASc and MEng)\n",
      "Industrial and Manufacturing Systems Engineering (PhD)\n",
      "L\n",
      "Law (LLM)\n",
      "M\n",
      "Management (MM)\n",
      "Mathematics and Statistics (PhD and MSc)\n",
      "Mechanical Engineering - Automotive Option (MEng)\n",
      "Mechanical Engineering (PhD, MASc and MEng) \n",
      "Medical Biotechnology (MMB)\n",
      "N\n",
      "Nursing (PhD, MScN and MN; Graduate Diploma in Advanced Practice Oncology/Palliative Care; Graduate Diploma - Primary Health Care Nurse Practitioner)\n",
      "P\n",
      "Philosophy (MA)\n",
      "Physics (PhD and MSc)\n",
      "Political Science (MA)\n",
      "Psychology (PhD and MA)\n",
      "S\n",
      "Social Work (PhD, MSW, and MSW/JD)\n",
      "Sociology (PhD and MA)\n",
      "V\n",
      "Visual Arts (MFA)\n"
     ]
    },
    {
     "data": {
      "text/plain": [
       "19"
      ]
     },
     "execution_count": 1,
     "metadata": {},
     "output_type": "execute_result"
    }
   ],
   "source": [
    "import requests\n",
    "import csv\n",
    "from bs4 import BeautifulSoup\n",
    "\n",
    "page = requests.get('http://www.uwindsor.ca/graduate-studies/350/graduate-programs')\n",
    "\n",
    "soup = BeautifulSoup(page.text, 'html.parser')\n",
    "\n",
    "f = csv.writer(open('Courses.csv', 'w'))\n",
    "f.writerow(['Courses', 'Type'])\n",
    "\n",
    "full_list = soup.find(class_='field-item even')\n",
    "\n",
    "course_names = full_list.find_all('a')\n",
    "\n",
    "for x in course_names:\n",
    "    y = x.contents[0]\n",
    "    print(y)\n",
    "\n",
    "f.writerow([y])"
   ]
  },
  {
   "cell_type": "code",
   "execution_count": null,
   "metadata": {},
   "outputs": [],
   "source": []
  }
 ],
 "metadata": {
  "kernelspec": {
   "display_name": "Python 3",
   "language": "python",
   "name": "python3"
  },
  "language_info": {
   "codemirror_mode": {
    "name": "ipython",
    "version": 3
   },
   "file_extension": ".py",
   "mimetype": "text/x-python",
   "name": "python",
   "nbconvert_exporter": "python",
   "pygments_lexer": "ipython3",
   "version": "3.7.4"
  }
 },
 "nbformat": 4,
 "nbformat_minor": 2
}
